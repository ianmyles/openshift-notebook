{
 "cells": [
  {
   "cell_type": "code",
   "execution_count": null,
   "metadata": {},
   "outputs": [],
   "source": [
    "# plotly.tools.set_credentials_file(username='', api_key='')"
   ]
  },
  {
   "cell_type": "code",
   "execution_count": 1,
   "metadata": {},
   "outputs": [
    {
     "data": {
      "text/html": [
       "<iframe id=\"igraph\" scrolling=\"no\" style=\"border:none;\" seamless=\"seamless\" src=\"https://plot.ly/~ianmyles/1.embed\" height=\"710px\" width=\"100%\"></iframe>"
      ],
      "text/plain": [
       "<plotly.tools.PlotlyDisplay object>"
      ]
     },
     "execution_count": 1,
     "metadata": {},
     "output_type": "execute_result"
    }
   ],
   "source": [
    "import plotly.plotly as py\n",
    "import plotly.figure_factory as ff\n",
    "import pandas as pd\n",
    "\n",
    "df = pd.read_csv(\"https://raw.githubusercontent.com/plotly/datasets/master/school_earnings.csv\")\n",
    "\n",
    "table = ff.create_table(df)\n",
    "py.iplot(table, filename='jupyter-table1')"
   ]
  },
  {
   "cell_type": "code",
   "execution_count": 2,
   "metadata": {},
   "outputs": [
    {
     "data": {
      "text/plain": [
       "'MIT'"
      ]
     },
     "execution_count": 2,
     "metadata": {},
     "output_type": "execute_result"
    }
   ],
   "source": [
    "schools = df.School\n",
    "schools[0]"
   ]
  },
  {
   "cell_type": "code",
   "execution_count": 3,
   "metadata": {},
   "outputs": [
    {
     "data": {
      "text/plain": [
       "Women    12.813683\n",
       "Men      25.705289\n",
       "Gap      14.137084\n",
       "dtype: float64"
      ]
     },
     "execution_count": 3,
     "metadata": {},
     "output_type": "execute_result"
    }
   ],
   "source": [
    "df.std()"
   ]
  },
  {
   "cell_type": "code",
   "execution_count": 4,
   "metadata": {},
   "outputs": [
    {
     "data": {
      "text/html": [
       "<iframe id=\"igraph\" scrolling=\"no\" style=\"border:none;\" seamless=\"seamless\" src=\"https://plot.ly/~ianmyles/3.embed\" height=\"525px\" width=\"100%\"></iframe>"
      ],
      "text/plain": [
       "<plotly.tools.PlotlyDisplay object>"
      ]
     },
     "execution_count": 4,
     "metadata": {},
     "output_type": "execute_result"
    }
   ],
   "source": [
    "import plotly.plotly as py\n",
    "import plotly.graph_objs as go\n",
    "\n",
    "data = [go.Bar(x=df.School,\n",
    "            y=df.Gap)]\n",
    "\n",
    "py.iplot(data, filename='jupyter-basic_bar')"
   ]
  },
  {
   "cell_type": "code",
   "execution_count": 5,
   "metadata": {},
   "outputs": [
    {
     "data": {
      "text/html": [
       "<iframe id=\"igraph\" scrolling=\"no\" style=\"border:none;\" seamless=\"seamless\" src=\"https://plot.ly/~ianmyles/5.embed\" height=\"525px\" width=\"100%\"></iframe>"
      ],
      "text/plain": [
       "<plotly.tools.PlotlyDisplay object>"
      ]
     },
     "execution_count": 5,
     "metadata": {},
     "output_type": "execute_result"
    }
   ],
   "source": [
    "import plotly.plotly as py\n",
    "import plotly.graph_objs as go\n",
    "\n",
    "trace_women = go.Bar(x=df.School,\n",
    "                  y=df.Women,\n",
    "                  name='Women',\n",
    "                  marker=dict(color='#ffcdd2'))\n",
    "\n",
    "trace_men = go.Bar(x=df.School,\n",
    "                y=df.Men,\n",
    "                name='Men',\n",
    "                marker=dict(color='#A2D5F2'))\n",
    "\n",
    "trace_gap = go.Bar(x=df.School,\n",
    "                y=df.Gap,\n",
    "                name='Gap',\n",
    "                marker=dict(color='#59606D'))\n",
    "\n",
    "data = [trace_women, trace_men, trace_gap]\n",
    "\n",
    "layout = go.Layout(title=\"Average Earnings for Graduates\",\n",
    "                xaxis=dict(title='School'),\n",
    "                yaxis=dict(title='Salary (in thousands)'))\n",
    "\n",
    "fig = go.Figure(data=data, layout=layout)\n",
    "\n",
    "py.iplot(fig, sharing='public', filename='jupyter-styled_bar')"
   ]
  },
  {
   "cell_type": "code",
   "execution_count": 7,
   "metadata": {},
   "outputs": [
    {
     "data": {
      "text/html": [
       "<iframe id=\"igraph\" scrolling=\"no\" style=\"border:none;\" seamless=\"seamless\" src=\"https://plot.ly/~ianmyles/7.embed\" height=\"525px\" width=\"100%\"></iframe>"
      ],
      "text/plain": [
       "<plotly.tools.PlotlyDisplay object>"
      ]
     },
     "execution_count": 7,
     "metadata": {},
     "output_type": "execute_result"
    }
   ],
   "source": [
    "import plotly.plotly as py\n",
    "import plotly.graph_objs as go\n",
    "\n",
    "import pandas as pd\n",
    "\n",
    "mapbox_access_token = ''\n",
    "\n",
    "df = pd.read_csv('https://raw.githubusercontent.com/plotly/datasets/master/Nuclear%20Waste%20Sites%20on%20American%20Campuses.csv')\n",
    "site_lat = df.lat\n",
    "site_lon = df.lon\n",
    "locations_name = df.text\n",
    "\n",
    "data = [\n",
    "    go.Scattermapbox(\n",
    "        lat=site_lat,\n",
    "        lon=site_lon,\n",
    "        mode='markers',\n",
    "        marker=dict(\n",
    "            size=17,\n",
    "            color='rgb(255, 0, 0)',\n",
    "            opacity=0.7\n",
    "        ),\n",
    "        text=locations_name,\n",
    "        hoverinfo='text'\n",
    "    ),\n",
    "    go.Scattermapbox(\n",
    "        lat=site_lat,\n",
    "        lon=site_lon,\n",
    "        mode='markers',\n",
    "        marker=dict(\n",
    "            size=8,\n",
    "            color='rgb(242, 177, 172)',\n",
    "            opacity=0.7\n",
    "        ),\n",
    "        hoverinfo='none'\n",
    "    )]\n",
    "\n",
    "\n",
    "layout = go.Layout(\n",
    "    title='Nuclear Waste Sites on Campus',\n",
    "    autosize=True,\n",
    "    hovermode='closest',\n",
    "    showlegend=False,\n",
    "    mapbox=dict(\n",
    "        accesstoken=mapbox_access_token,\n",
    "        bearing=0,\n",
    "        center=dict(\n",
    "            lat=38,\n",
    "            lon=-94\n",
    "        ),\n",
    "        pitch=0,\n",
    "        zoom=3,\n",
    "        style='light'\n",
    "    ),\n",
    ")\n",
    "\n",
    "fig = dict(data=data, layout=layout)\n",
    "\n",
    "py.iplot(fig, filename='jupyter-Nuclear Waste Sites on American Campuses')"
   ]
  },
  {
   "cell_type": "code",
   "execution_count": 8,
   "metadata": {},
   "outputs": [
    {
     "data": {
      "text/html": [
       "<iframe id=\"igraph\" scrolling=\"no\" style=\"border:none;\" seamless=\"seamless\" src=\"https://plot.ly/~ianmyles/9.embed\" height=\"525px\" width=\"100%\"></iframe>"
      ],
      "text/plain": [
       "<plotly.tools.PlotlyDisplay object>"
      ]
     },
     "execution_count": 8,
     "metadata": {},
     "output_type": "execute_result"
    }
   ],
   "source": [
    "import plotly.plotly as py\n",
    "import plotly.graph_objs as go\n",
    "\n",
    "import numpy as np\n",
    "\n",
    "s = np.linspace(0, 2 * np.pi, 240)\n",
    "t = np.linspace(0, np.pi, 240)\n",
    "tGrid, sGrid = np.meshgrid(s, t)\n",
    "\n",
    "r = 2 + np.sin(7 * sGrid + 5 * tGrid)  # r = 2 + sin(7s+5t)\n",
    "x = r * np.cos(sGrid) * np.sin(tGrid)  # x = r*cos(s)*sin(t)\n",
    "y = r * np.sin(sGrid) * np.sin(tGrid)  # y = r*sin(s)*sin(t)\n",
    "z = r * np.cos(tGrid)                  # z = r*cos(t)\n",
    "\n",
    "surface = go.Surface(x=x, y=y, z=z)\n",
    "data = [surface]\n",
    "\n",
    "layout = go.Layout(\n",
    "    title='Parametric Plot',\n",
    "    scene=dict(\n",
    "        xaxis=dict(\n",
    "            gridcolor='rgb(255, 255, 255)',\n",
    "            zerolinecolor='rgb(255, 255, 255)',\n",
    "            showbackground=True,\n",
    "            backgroundcolor='rgb(230, 230,230)'\n",
    "        ),\n",
    "        yaxis=dict(\n",
    "            gridcolor='rgb(255, 255, 255)',\n",
    "            zerolinecolor='rgb(255, 255, 255)',\n",
    "            showbackground=True,\n",
    "            backgroundcolor='rgb(230, 230,230)'\n",
    "        ),\n",
    "        zaxis=dict(\n",
    "            gridcolor='rgb(255, 255, 255)',\n",
    "            zerolinecolor='rgb(255, 255, 255)',\n",
    "            showbackground=True,\n",
    "            backgroundcolor='rgb(230, 230,230)'\n",
    "        )\n",
    "    )\n",
    ")\n",
    "\n",
    "fig = go.Figure(data=data, layout=layout)\n",
    "py.iplot(fig, filename='jupyter-parametric_plot')\n"
   ]
  },
  {
   "cell_type": "code",
   "execution_count": 11,
   "metadata": {},
   "outputs": [
    {
     "data": {
      "text/html": [
       "<iframe id=\"igraph\" scrolling=\"no\" style=\"border:none;\" seamless=\"seamless\" src=\"https://plot.ly/~ianmyles/11.embed\" height=\"525px\" width=\"100%\"></iframe>"
      ],
      "text/plain": [
       "<plotly.tools.PlotlyDisplay object>"
      ]
     },
     "execution_count": 11,
     "metadata": {},
     "output_type": "execute_result"
    }
   ],
   "source": [
    "import plotly.plotly as py\n",
    "import numpy as np\n",
    "\n",
    "data = [dict(\n",
    "        visible = False,\n",
    "        line=dict(color='blue', width=6),\n",
    "        name = '𝜈 = '+str(step),\n",
    "        x = np.arange(0,10,0.01),\n",
    "        y = np.sin(step*np.arange(0,10,0.01))) for step in np.arange(0,5,0.1)]\n",
    "data[10]['visible'] = True\n",
    "\n",
    "steps = []\n",
    "for i in range(len(data)):\n",
    "    step = dict(\n",
    "        method = 'restyle',\n",
    "        args = ['visible', [False] * len(data)],\n",
    "    )\n",
    "    step['args'][1][i] = True # Toggle i'th trace to \"visible\"\n",
    "    steps.append(step)\n",
    "\n",
    "sliders = [dict(\n",
    "    active = 10,\n",
    "    currentvalue = {\"prefix\": \"Frequency: \"},\n",
    "    pad = {\"t\": 50},\n",
    "    steps = steps\n",
    ")]\n",
    "\n",
    "layout = dict(sliders=sliders)\n",
    "fig = dict(data=data, layout=layout)\n",
    "\n",
    "py.iplot(fig, filename='Sine Wave Slider')"
   ]
  },
  {
   "cell_type": "code",
   "execution_count": null,
   "metadata": {},
   "outputs": [],
   "source": [
    "from IPython.display import YouTubeVideo\n",
    "YouTubeVideo(\"wupToqz1e2g\")\n"
   ]
  },
  {
   "cell_type": "markdown",
   "metadata": {},
   "source": [
    "$$c = \\sqrt{a^2 + b^2}$$,"
   ]
  },
  {
   "cell_type": "code",
   "execution_count": null,
   "metadata": {},
   "outputs": [],
   "source": [
    "from IPython.display import display, Math, Latex\n",
    "\n",
    "display(Math(r'F(k) = \\int_{-\\infty}^{\\infty} f(x) e^{2\\pi i k} dx'))"
   ]
  },
  {
   "cell_type": "code",
   "execution_count": null,
   "metadata": {},
   "outputs": [],
   "source": []
  }
 ],
 "metadata": {
  "kernelspec": {
   "display_name": "Python 3",
   "language": "python",
   "name": "python3"
  },
  "language_info": {
   "codemirror_mode": {
    "name": "ipython",
    "version": 3
   },
   "file_extension": ".py",
   "mimetype": "text/x-python",
   "name": "python",
   "nbconvert_exporter": "python",
   "pygments_lexer": "ipython3",
   "version": "3.6.4"
  }
 },
 "nbformat": 4,
 "nbformat_minor": 2
}
